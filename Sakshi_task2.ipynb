{
  "nbformat": 4,
  "nbformat_minor": 0,
  "metadata": {
    "colab": {
      "provenance": []
    },
    "kernelspec": {
      "name": "python3",
      "display_name": "Python 3"
    },
    "language_info": {
      "name": "python"
    }
  },
  "cells": [
    {
      "cell_type": "code",
      "execution_count": 2,
      "metadata": {
        "colab": {
          "base_uri": "https://localhost:8080/"
        },
        "id": "MfqNOeEQOUVL",
        "outputId": "4a0303cf-ca26-4a1c-c51f-0a33066e4be3"
      },
      "outputs": [
        {
          "output_type": "stream",
          "name": "stdout",
          "text": [
            "value of sum= 20\n"
          ]
        }
      ],
      "source": [
        "#Task 2\n",
        "a=10\n",
        "b=10\n",
        "c=a+b\n",
        "print(\"value of sum=\",c)"
      ]
    }
  ]
}