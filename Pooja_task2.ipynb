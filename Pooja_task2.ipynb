{
  "nbformat": 4,
  "nbformat_minor": 0,
  "metadata": {
    "colab": {
      "provenance": []
    },
    "kernelspec": {
      "name": "python3",
      "display_name": "Python 3"
    },
    "language_info": {
      "name": "python"
    }
  },
  "cells": [
    {
      "cell_type": "code",
      "execution_count": 3,
      "metadata": {
        "colab": {
          "base_uri": "https://localhost:8080/"
        },
        "id": "MfqNOeEQOUVL",
        "outputId": "eee1f2eb-a43c-4961-93c4-1d22e2b4e5ac"
      },
      "outputs": [
        {
          "output_type": "stream",
          "name": "stdout",
          "text": [
            "value of sum= 65\n"
          ]
        }
      ],
      "source": [
        "#Task 2\n",
        "a=20\n",
        "b=45\n",
        "c=a+b\n",
        "print(\"value of sum=\",c)"
      ]
    }
  ]
}